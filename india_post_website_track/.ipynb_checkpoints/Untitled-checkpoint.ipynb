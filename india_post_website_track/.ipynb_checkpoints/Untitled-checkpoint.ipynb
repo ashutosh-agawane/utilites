{
 "cells": [
  {
   "cell_type": "code",
   "execution_count": 1,
   "id": "8556fc19-9b05-40c2-b894-e52314cdb96d",
   "metadata": {},
   "outputs": [
    {
     "name": "stdout",
     "output_type": "stream",
     "text": [
      "Requirement already satisfied: easyocr in c:\\users\\vikrant\\appdata\\local\\programs\\python\\python38\\lib\\site-packages (1.3.0.1)Note: you may need to restart the kernel to use updated packages.\n",
      "Requirement already satisfied: scipy in c:\\users\\vikrant\\appdata\\local\\programs\\python\\python38\\lib\\site-packages (from easyocr) (1.6.2)\n",
      "Requirement already satisfied: numpy in c:\\users\\vikrant\\appdata\\local\\programs\\python\\python38\\lib\\site-packages (from easyocr) (1.19.5)\n",
      "Requirement already satisfied: scikit-image in c:\\users\\vikrant\\appdata\\local\\programs\\python\\python38\\lib\\site-packages (from easyocr) (0.18.1)\n",
      "Requirement already satisfied: Pillow in c:\\users\\vikrant\\appdata\\local\\programs\\python\\python38\\lib\\site-packages (from easyocr) (8.1.0)\n",
      "Requirement already satisfied: PyYAML in c:\\users\\vikrant\\appdata\\local\\programs\\python\\python38\\lib\\site-packages (from easyocr) (5.4.1)\n",
      "Requirement already satisfied: python-bidi in c:\\users\\vikrant\\appdata\\local\\programs\\python\\python38\\lib\\site-packages (from easyocr) (0.4.2)\n",
      "Requirement already satisfied: opencv-python in c:\\users\\vikrant\\appdata\\local\\programs\\python\\python38\\lib\\site-packages (from easyocr) (4.5.1.48)\n",
      "Requirement already satisfied: torch in c:\\users\\vikrant\\appdata\\local\\programs\\python\\python38\\lib\\site-packages (from easyocr) (1.8.1)\n",
      "Requirement already satisfied: torchvision>=0.5 in c:\\users\\vikrant\\appdata\\local\\programs\\python\\python38\\lib\\site-packages (from easyocr) (0.9.1)\n",
      "\n",
      "Requirement already satisfied: typing-extensions in c:\\users\\vikrant\\appdata\\local\\programs\\python\\python38\\lib\\site-packages (from torch->easyocr) (3.7.4.3)\n",
      "Requirement already satisfied: six in c:\\users\\vikrant\\appdata\\local\\programs\\python\\python38\\lib\\site-packages (from python-bidi->easyocr) (1.15.0)\n",
      "Requirement already satisfied: matplotlib!=3.0.0,>=2.0.0 in c:\\users\\vikrant\\appdata\\local\\programs\\python\\python38\\lib\\site-packages (from scikit-image->easyocr) (3.4.1)\n",
      "Requirement already satisfied: networkx>=2.0 in c:\\users\\vikrant\\appdata\\local\\programs\\python\\python38\\lib\\site-packages (from scikit-image->easyocr) (2.5.1)\n",
      "Requirement already satisfied: tifffile>=2019.7.26 in c:\\users\\vikrant\\appdata\\local\\programs\\python\\python38\\lib\\site-packages (from scikit-image->easyocr) (2021.4.8)\n",
      "Requirement already satisfied: imageio>=2.3.0 in c:\\users\\vikrant\\appdata\\local\\programs\\python\\python38\\lib\\site-packages (from scikit-image->easyocr) (2.9.0)\n",
      "Requirement already satisfied: PyWavelets>=1.1.1 in c:\\users\\vikrant\\appdata\\local\\programs\\python\\python38\\lib\\site-packages (from scikit-image->easyocr) (1.1.1)\n",
      "Requirement already satisfied: kiwisolver>=1.0.1 in c:\\users\\vikrant\\appdata\\local\\programs\\python\\python38\\lib\\site-packages (from matplotlib!=3.0.0,>=2.0.0->scikit-image->easyocr) (1.3.1)\n",
      "Requirement already satisfied: pyparsing>=2.2.1 in c:\\users\\vikrant\\appdata\\local\\programs\\python\\python38\\lib\\site-packages (from matplotlib!=3.0.0,>=2.0.0->scikit-image->easyocr) (2.4.7)\n",
      "Requirement already satisfied: cycler>=0.10 in c:\\users\\vikrant\\appdata\\local\\programs\\python\\python38\\lib\\site-packages (from matplotlib!=3.0.0,>=2.0.0->scikit-image->easyocr) (0.10.0)\n",
      "Requirement already satisfied: python-dateutil>=2.7 in c:\\users\\vikrant\\appdata\\local\\programs\\python\\python38\\lib\\site-packages (from matplotlib!=3.0.0,>=2.0.0->scikit-image->easyocr) (2.8.1)\n",
      "Requirement already satisfied: decorator<5,>=4.3 in c:\\users\\vikrant\\appdata\\local\\programs\\python\\python38\\lib\\site-packages (from networkx>=2.0->scikit-image->easyocr) (4.4.2)\n"
     ]
    }
   ],
   "source": [
    "pip install easyocr"
   ]
  },
  {
   "cell_type": "code",
   "execution_count": 2,
   "id": "099b4d31-092d-4614-a939-4534e98706d6",
   "metadata": {},
   "outputs": [],
   "source": [
    "import easyocr\n",
    "import cv2\n",
    "from matplotlib import pyplot as pit\n",
    "import numpy as np"
   ]
  },
  {
   "cell_type": "code",
   "execution_count": 3,
   "id": "ae0e6d22-a9bf-47e8-ab02-1c368d0c5a14",
   "metadata": {},
   "outputs": [],
   "source": [
    "img = \"click.png\""
   ]
  },
  {
   "cell_type": "code",
   "execution_count": 4,
   "id": "3004c62c-12fd-44b0-b72a-053aaaab9882",
   "metadata": {},
   "outputs": [
    {
     "ename": "NameError",
     "evalue": "name 'FALSE' is not defined",
     "output_type": "error",
     "traceback": [
      "\u001b[1;31m---------------------------------------------------------------------------\u001b[0m",
      "\u001b[1;31mNameError\u001b[0m                                 Traceback (most recent call last)",
      "\u001b[1;32m<ipython-input-4-e9fa154a6a81>\u001b[0m in \u001b[0;36m<module>\u001b[1;34m\u001b[0m\n\u001b[1;32m----> 1\u001b[1;33m \u001b[0mreader\u001b[0m \u001b[1;33m=\u001b[0m \u001b[0measyocr\u001b[0m\u001b[1;33m.\u001b[0m\u001b[0mReader\u001b[0m\u001b[1;33m(\u001b[0m\u001b[1;33m[\u001b[0m\u001b[1;34m'en'\u001b[0m\u001b[1;33m]\u001b[0m\u001b[1;33m,\u001b[0m\u001b[0mgpu\u001b[0m\u001b[1;33m=\u001b[0m\u001b[0mFALSE\u001b[0m\u001b[1;33m)\u001b[0m\u001b[1;33m\u001b[0m\u001b[1;33m\u001b[0m\u001b[0m\n\u001b[0m\u001b[0;32m      2\u001b[0m \u001b[0mres\u001b[0m \u001b[1;33m=\u001b[0m \u001b[0mreader\u001b[0m\u001b[1;33m.\u001b[0m\u001b[0mreadtext\u001b[0m\u001b[1;33m(\u001b[0m\u001b[0mimg\u001b[0m\u001b[1;33m)\u001b[0m\u001b[1;33m\u001b[0m\u001b[1;33m\u001b[0m\u001b[0m\n\u001b[0;32m      3\u001b[0m \u001b[0mres\u001b[0m\u001b[1;33m\u001b[0m\u001b[1;33m\u001b[0m\u001b[0m\n",
      "\u001b[1;31mNameError\u001b[0m: name 'FALSE' is not defined"
     ]
    }
   ],
   "source": [
    "reader = easyocr.Reader(['en'])\n",
    "res = reader.readtext(img)\n",
    "res"
   ]
  },
  {
   "cell_type": "code",
   "execution_count": null,
   "id": "2c293c58-e902-4015-bbcc-3eddebfb41e8",
   "metadata": {},
   "outputs": [],
   "source": []
  }
 ],
 "metadata": {
  "kernelspec": {
   "display_name": "Python 3",
   "language": "python",
   "name": "python3"
  },
  "language_info": {
   "codemirror_mode": {
    "name": "ipython",
    "version": 3
   },
   "file_extension": ".py",
   "mimetype": "text/x-python",
   "name": "python",
   "nbconvert_exporter": "python",
   "pygments_lexer": "ipython3",
   "version": "3.8.7"
  }
 },
 "nbformat": 4,
 "nbformat_minor": 5
}
